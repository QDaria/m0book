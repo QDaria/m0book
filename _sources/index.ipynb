{
 "cells": [
  {
   "cell_type": "markdown",
   "id": "7f7a6c3d",
   "metadata": {},
   "source": [
    "# Intro\n",
    "\n",
    "[![Jupyter Book Badge](https://jupyterbook.org/badge.svg)](https://qdaria.github.io/m0book/)\n",
    "[![Binder](https://mybinder.org/badge_logo.svg)](https://mybinder.org/v2/gh/QDaria/m0book/HEAD)\n",
    "[![Colab](https://colab.research.google.com/assets/colab-badge.svg)](https://colab.research.google.com/github/googlecolab/colabtools/blob/main/notebooks/colab-github-demo.ipynb)\n",
    "\n",
    "```{tableofcontents}\n",
    "\n",
    "```\n",
    "\n",
    "## Team Effekt\n",
    "\n",
    "thebe_config = {\n",
    "\"always_load\": True\n",
    "}\n",
    "\n",
    "`````{tab-set}\n",
    "````{tab-item} python\n",
    "\n",
    "```{code-block} python\n",
    "\n",
    "def main():\n",
    "    return\n",
    "```\n",
    "````\n",
    "\n",
    "````{tab-item} java\n",
    "\n",
    "```{code-block} java\n",
    "\n",
    "class Main {\n",
    "    public static void main(String[] args) {\n",
    "    }\n",
    "}\n",
    "```\n",
    "````\n",
    "\n",
    "````{tab-item} julia\n",
    "\n",
    "```{code-block} julia\n",
    "\n",
    "function main()\n",
    "end\n",
    "```\n",
    "````\n",
    "\n",
    "````{tab-item} fortran\n",
    "\n",
    "```{code-block} fortran\n",
    "\n",
    "PROGRAM main\n",
    "END PROGRAM main\n",
    "```\n",
    "````\n",
    "````{tab-item} c++\n",
    "\n",
    "```{code-block} c++\n",
    "\n",
    "int main(const int argc, const char **argv) {\n",
    "  return 0;\n",
    "}\n",
    "```\n",
    "````\n",
    "`````\n",
    "\n",
    "# Test 1"
   ]
  }
 ],
 "metadata": {
  "jupytext": {
   "cell_metadata_filter": "-all",
   "formats": "md:myst",
   "text_representation": {
    "extension": ".md",
    "format_name": "myst",
    "format_version": 0.13,
    "jupytext_version": "1.11.5"
   }
  },
  "kernelspec": {
   "display_name": "Python 3",
   "language": "python",
   "name": "python3"
  },
  "language_info": {
   "codemirror_mode": {
    "name": "ipython",
    "version": 3
   },
   "file_extension": ".py",
   "mimetype": "text/x-python",
   "name": "python",
   "nbconvert_exporter": "python",
   "pygments_lexer": "ipython3",
   "version": "3.10.4"
  },
  "source_map": [
   14
  ]
 },
 "nbformat": 4,
 "nbformat_minor": 5
}